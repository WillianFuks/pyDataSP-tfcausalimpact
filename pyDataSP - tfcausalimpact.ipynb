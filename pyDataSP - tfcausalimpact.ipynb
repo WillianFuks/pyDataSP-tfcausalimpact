{
 "cells": [
  {
   "cell_type": "markdown",
   "id": "4eece251",
   "metadata": {
    "slideshow": {
     "slide_type": "slide"
    }
   },
   "source": [
    "# Causal Impact\n",
    "\n",
    "\n",
    "\n",
    "Will Fuks\n",
    "\n",
    "https://github.com/WillianFuks/tfcausalimpact\n",
    "\n",
    "[LinkedIn](https://www.linkedin.com/in/willian-fuks-62622217/)\n"
   ]
  },
  {
   "cell_type": "markdown",
   "id": "45f06b4a",
   "metadata": {
    "slideshow": {
     "slide_type": "slide"
    }
   },
   "source": [
    "```sh\n",
    "git clone git@github.com:WillianFuks/pyDataSP-tfcausalimpact.git\n",
    "cd pyDataSP-tfcausalimpact/\n",
    "python3.9 -m venv .env\n",
    "source .env/bin/activate\n",
    "pip install -r requirements.txt\n",
    "\n",
    ".env/bin/jupyter notebook\n",
    "```"
   ]
  },
  {
   "cell_type": "code",
   "execution_count": null,
   "id": "0ca7725a",
   "metadata": {
    "slideshow": {
     "slide_type": "slide"
    }
   },
   "outputs": [],
   "source": [
    "import daft\n",
    "import os\n",
    "import collections\n",
    "\n",
    "os. environ['TF_CPP_MIN_LOG_LEVEL'] = '3'\n",
    "\n",
    "import matplotlib.pyplot as plt\n",
    "from matplotlib import rc\n",
    "from IPython.display import HTML\n",
    "import tensorflow as tf\n",
    "import tensorflow_probability as tfp\n",
    "import seaborn as sns\n",
    "import pandas as pd\n",
    "import numpy as np\n",
    "\n",
    "# Attempts to disable TF warnings\n",
    "tf.get_logger().setLevel('ERROR')\n",
    "tf.autograph.set_verbosity(tf.compat.v1.logging.ERROR)\n",
    "import logging\n",
    "tf.get_logger().setLevel(logging.ERROR)\n",
    "\n",
    "# TFP namespaces\n",
    "tfd = tfp.distributions\n",
    "tfb = tfp.bijectors\n",
    "\n",
    "# Remove prompt from notebook css\n",
    "HTML(open('styles/custom.css').read())"
   ]
  },
  {
   "cell_type": "markdown",
   "id": "301a0878",
   "metadata": {
    "slideshow": {
     "slide_type": "slide"
    }
   },
   "source": [
    "## Here's our final destination:\n",
    "\n",
    "<center><img src=\"./imgs/tfcausal_plot_original_example.png\"/></center>"
   ]
  },
  {
   "cell_type": "markdown",
   "id": "288c8a2a",
   "metadata": {
    "slideshow": {
     "slide_type": "slide"
    }
   },
   "source": [
    "## Our Journey:\n",
    "\n",
    "1. Causality\n",
    "\n",
    "2. Bayesian Time Series\n",
    "\n",
    "3. Causal Impact\n",
    "    \n",
    "    "
   ]
  },
  {
   "cell_type": "markdown",
   "id": "8d0b5a6d",
   "metadata": {
    "slideshow": {
     "slide_type": "slide"
    }
   },
   "source": [
    "## Causality Is Simple!"
   ]
  },
  {
   "cell_type": "code",
   "execution_count": null,
   "id": "31aa4d5b",
   "metadata": {
    "slideshow": {
     "slide_type": "fragment"
    }
   },
   "outputs": [],
   "source": [
    "rc(\"font\", family=\"serif\", size=12)\n",
    "rc(\"text\", usetex=False)\n",
    "\n",
    "\n",
    "pgm = daft.PGM(grid_unit=4.0, node_unit=2.5)\n",
    "rect_params = {\"lw\": 2}\n",
    "edge_params = {\n",
    "    'linewidth': 1,\n",
    "    'head_width': .8\n",
    "}\n",
    "\n",
    "pgm.add_node(\"rain\", r\"$Rain$\", 0.5, 1.5, scale=1.5, fontsize=24)\n",
    "pgm.add_node(\"wet\", r\"$Wet$\", 2.5 + 0.2, 1.5, scale=1.5, fontsize=24)\n",
    "pgm.add_edge(\"rain\", \"wet\", plot_params=edge_params)\n",
    "pgm.render();"
   ]
  },
  {
   "cell_type": "markdown",
   "id": "4189bfd7",
   "metadata": {
    "slideshow": {
     "slide_type": "slide"
    }
   },
   "source": [
    "## Until It's Not..."
   ]
  },
  {
   "cell_type": "code",
   "execution_count": null,
   "id": "fe1857b1",
   "metadata": {
    "slideshow": {
     "slide_type": "fragment"
    }
   },
   "outputs": [],
   "source": [
    "pgm = daft.PGM(grid_unit=4.0, node_unit=4.5)\n",
    "pgm.add_node(\"fatigue\", r\"$Fatigue Train$\", 0.5, 1.5, scale=1.5, fontsize=24)\n",
    "pgm.add_node(\"perf\", r\"$Performance$\", 2.5 + 0.2, 1.5, scale=1.5, fontsize=24)\n",
    "pgm.add_edge(\"fatigue\", \"perf\", plot_params=edge_params)\n",
    "pgm.render();"
   ]
  },
  {
   "cell_type": "code",
   "execution_count": null,
   "id": "d5e7cec4",
   "metadata": {
    "slideshow": {
     "slide_type": "slide"
    }
   },
   "outputs": [],
   "source": [
    "pgm = daft.PGM(grid_unit=4.0, node_unit=2.5)\n",
    "pgm.add_node(\"diet\", r\"$Diet$\", 0.5, 3, scale=1.5, fontsize=24)\n",
    "pgm.add_node(\"rest\", r\"$Rest$\", 0.5, 1.5, scale=1.5, fontsize=24)\n",
    "pgm.add_node(\"volume\", r\"$Volume$\", 0.5, 0, scale=1.5, fontsize=24)\n",
    "pgm.add_node(\"fatigue\", r\"$Fatigue$\", 0.5, -1.5, scale=1.5, fontsize=24)\n",
    "pgm.add_node(\"perf\", r\"$Performance$\", 2.5 + 0.2, 1.5, scale=2.5, fontsize=24)\n",
    "pgm.add_edge(\"diet\", \"perf\", plot_params=edge_params)\n",
    "pgm.add_edge(\"volume\", \"perf\", plot_params=edge_params)\n",
    "pgm.add_edge(\"rest\", \"perf\", plot_params=edge_params)\n",
    "pgm.add_edge(\"fatigue\", \"perf\", plot_params=edge_params)\n",
    "\n",
    "\n",
    "# pgm.add_edge(\"diet\", \"rest\", plot_params=edge_params)\n",
    "# pgm.add_edge(\"rest\", \"diet\", plot_params=edge_params)\n",
    "# pgm.add_edge(\"diet\", \"volume\", plot_params=edge_params)\n",
    "# pgm.add_edge(\"volume\", \"diet\", plot_params=edge_params)\n",
    "# pgm.add_edge(\"diet\", \"fatigue\", plot_params=edge_params)\n",
    "# pgm.add_edge(\"fatigue\", \"diet\", plot_params=edge_params)\n",
    "\n",
    "pgm.render();"
   ]
  },
  {
   "cell_type": "markdown",
   "id": "af17aacb",
   "metadata": {
    "slideshow": {
     "slide_type": "slide"
    }
   },
   "source": [
    "## So How To Compute Causality?!"
   ]
  },
  {
   "cell_type": "markdown",
   "id": "35827436",
   "metadata": {
    "slideshow": {
     "slide_type": "fragment"
    }
   },
   "source": [
    "\n",
    "### Correlations?"
   ]
  },
  {
   "cell_type": "markdown",
   "id": "f6a4bfe2",
   "metadata": {
    "slideshow": {
     "slide_type": "slide"
    }
   },
   "source": [
    "## Let's Explore The Idea"
   ]
  },
  {
   "cell_type": "markdown",
   "id": "6923ab42",
   "metadata": {
    "slideshow": {
     "slide_type": "fragment"
    }
   },
   "source": [
    "### Tensorflow Probability"
   ]
  },
  {
   "cell_type": "markdown",
   "id": "eacafe39",
   "metadata": {
    "slideshow": {
     "slide_type": "fragment"
    }
   },
   "source": [
    "(Random Variables)"
   ]
  },
  {
   "cell_type": "code",
   "execution_count": null,
   "id": "26f2f734",
   "metadata": {
    "slideshow": {
     "slide_type": "slide"
    }
   },
   "outputs": [],
   "source": [
    "import os\n",
    "import tensorflow as tf\n",
    "import tensorflow_probability as tfp\n",
    "\n",
    "\n",
    "# tf.get_logger().setLevel('INFO')\n",
    "# os. environ['TF_CPP_MIN_LOG_LEVEL'] = '3'\n",
    "# tf.autograph.set_verbosity(1)\n",
    "\n",
    "tfd = tfp.distributions\n",
    "tfb = tfp.bijectors"
   ]
  },
  {
   "cell_type": "code",
   "execution_count": null,
   "id": "036641c5",
   "metadata": {
    "slideshow": {
     "slide_type": "slide"
    }
   },
   "outputs": [],
   "source": [
    "X = tfd.Normal(loc=2, scale=1)\n",
    "sns.displot(X.sample(1000), kde=True);"
   ]
  },
  {
   "cell_type": "code",
   "execution_count": null,
   "id": "98ce82f8",
   "metadata": {
    "slideshow": {
     "slide_type": "fragment"
    }
   },
   "outputs": [],
   "source": [
    "b_X = tfd.TransformedDistribution(\n",
    "    tfd.Normal(loc=2, scale=1),\n",
    "    bijector=tfb.Exp()\n",
    ")\n",
    "sns.displot(b_X.sample(1000), kde=True);"
   ]
  },
  {
   "cell_type": "markdown",
   "id": "6a1ee9ab",
   "metadata": {
    "slideshow": {
     "slide_type": "slide"
    }
   },
   "source": [
    "## Suppose This (Simplified) Structure"
   ]
  },
  {
   "cell_type": "code",
   "execution_count": null,
   "id": "aa412527",
   "metadata": {
    "slideshow": {
     "slide_type": "fragment"
    }
   },
   "outputs": [],
   "source": [
    "pgm = daft.PGM(grid_unit=4.0, node_unit=2.5)\n",
    "pgm.add_node(\"diet\", r\"$Diet$\", 0., 0., scale=1.5, fontsize=24)\n",
    "pgm.add_node(\"volume\", r\"$Volume$\", 1.25, 0, scale=1.5, fontsize=24)\n",
    "pgm.add_node(\"perf\", r\"$Performance$\", 3., 0., scale=2.5, fontsize=24)\n",
    "pgm.add_edge(\"diet\", \"volume\", plot_params=edge_params)\n",
    "pgm.add_edge(\"volume\", \"perf\", plot_params=edge_params)\n",
    "\n",
    "pgm.render();"
   ]
  },
  {
   "cell_type": "markdown",
   "id": "367729a5",
   "metadata": {
    "slideshow": {
     "slide_type": "slide"
    }
   },
   "source": [
    "## And Respective Data"
   ]
  },
  {
   "cell_type": "code",
   "execution_count": null,
   "id": "716e68f1",
   "metadata": {
    "slideshow": {
     "slide_type": "fragment"
    }
   },
   "outputs": [],
   "source": [
    "dist = tfd.JointDistributionNamed(\n",
    "    {\n",
    "        'diet': tfd.Normal(loc=3, scale=1),\n",
    "        'volume': lambda diet: tfd.Normal(diet * 2, scale=0.5),\n",
    "        'performance': lambda volume: tfd.Normal(volume * 1.3, scale=0.3)\n",
    "    }\n",
    ")\n",
    "data = dist.sample(3000)\n",
    "data = pd.DataFrame(data, columns=['performance', 'diet', 'volume'])\n",
    "# data.set_index(pd.date_range(start='20200101', periods=len(data)), inplace=True)\n",
    "# data"
   ]
  },
  {
   "cell_type": "markdown",
   "id": "e8877cd6",
   "metadata": {
    "slideshow": {
     "slide_type": "slide"
    }
   },
   "source": [
    "## Linear Regression Keras"
   ]
  },
  {
   "cell_type": "code",
   "execution_count": null,
   "id": "7a481930",
   "metadata": {
    "slideshow": {
     "slide_type": "fragment"
    }
   },
   "outputs": [],
   "source": [
    "import tensorflow as tf\n",
    "\n",
    "\n",
    "linear_model = tf.keras.Sequential([\n",
    "    tf.keras.layers.Dense(units=1, use_bias=False)\n",
    "])\n",
    "\n",
    "linear_model.compile(\n",
    "    optimizer=tf.optimizers.Adam(learning_rate=0.1),\n",
    "    loss=tf.keras.losses.MeanSquaredError()\n",
    ")\n",
    "\n",
    "linear_model.fit(\n",
    "    data[['diet']],\n",
    "    data['performance'],\n",
    "    epochs=100,\n",
    "    verbose=0,\n",
    ")\n",
    "\n",
    "w = linear_model.get_weights()\n",
    "print(f\"Linear Relationship is: {w[0][0][0]:.2f}\")"
   ]
  },
  {
   "cell_type": "code",
   "execution_count": null,
   "id": "f8ed6079",
   "metadata": {
    "slideshow": {
     "slide_type": "slide"
    }
   },
   "outputs": [],
   "source": [
    "linear_model = tf.keras.Sequential([\n",
    "    tf.keras.layers.Dense(units=1, use_bias=False)\n",
    "])\n",
    "\n",
    "linear_model.compile(\n",
    "    optimizer=tf.optimizers.Adam(learning_rate=0.1),\n",
    "    loss=tf.keras.losses.MeanSquaredError()\n",
    ")\n",
    "\n",
    "linear_model.fit(\n",
    "    data[['volume']],\n",
    "    data['performance'],\n",
    "    epochs=100,\n",
    "    verbose=0,\n",
    ")\n",
    "\n",
    "w = linear_model.get_weights()\n",
    "print(f\"Linear Relationship is: {w[0][0][0]:.2f}\")"
   ]
  },
  {
   "cell_type": "code",
   "execution_count": null,
   "id": "59eedffe",
   "metadata": {
    "slideshow": {
     "slide_type": "slide"
    }
   },
   "outputs": [],
   "source": [
    "linear_model = tf.keras.Sequential([\n",
    "    tf.keras.layers.Dense(units=1, use_bias=False)\n",
    "])\n",
    "\n",
    "linear_model.compile(\n",
    "    optimizer=tf.optimizers.Adam(learning_rate=0.1),\n",
    "    loss=tf.keras.losses.MeanSquaredError()\n",
    ")\n",
    "\n",
    "linear_model.fit(\n",
    "    data[['diet', 'volume']],\n",
    "    data['performance'],\n",
    "    epochs=100,\n",
    "    verbose=0,\n",
    ")\n",
    "\n",
    "w = linear_model.get_weights()\n",
    "print(f\"Linear Relationship is: {w[0]}\")"
   ]
  },
  {
   "cell_type": "markdown",
   "id": "131e55f1",
   "metadata": {
    "slideshow": {
     "slide_type": "slide"
    }
   },
   "source": [
    "## Bayesian Linear Regression"
   ]
  },
  {
   "cell_type": "markdown",
   "id": "27b8c3a7",
   "metadata": {
    "slideshow": {
     "slide_type": "fragment"
    }
   },
   "source": [
    "### Recipe!"
   ]
  },
  {
   "cell_type": "markdown",
   "id": "10a52941",
   "metadata": {
    "slideshow": {
     "slide_type": "slide"
    }
   },
   "source": [
    "$$\\begin{equation} \\label{eq1}\n",
    "\\begin{split}\n",
    "P(A|B) & = \\frac{P(B|A)P(A)}{P(B)} = \\frac{P(A, B)}{P(B)}\n",
    "\\end{split}\n",
    "\\end{equation}\n",
    "$$"
   ]
  },
  {
   "cell_type": "markdown",
   "id": "f67b219b",
   "metadata": {
    "slideshow": {
     "slide_type": "fragment"
    }
   },
   "source": [
    "$$\\begin{equation} \\label{eq1}\n",
    "\\begin{split}\n",
    "P(\\theta|D) & = \\frac{P(\\theta, D)}{P(D)}\n",
    "\\end{split}\n",
    "\\end{equation}\n",
    "$$"
   ]
  },
  {
   "cell_type": "markdown",
   "id": "7a6212f2",
   "metadata": {
    "slideshow": {
     "slide_type": "slide"
    }
   },
   "source": [
    "## Step 1: Priors"
   ]
  },
  {
   "cell_type": "code",
   "execution_count": null,
   "id": "e78e9e8c",
   "metadata": {
    "slideshow": {
     "slide_type": "fragment"
    }
   },
   "outputs": [],
   "source": [
    "pgm = daft.PGM(grid_unit=4.0, node_unit=2.5)\n",
    "pgm.add_node(\"diet\", r\"$w_{diet}$\", 0., 0., scale=1.5, fontsize=24)\n",
    "pgm.add_node(\"volume\", r\"$w_{volume}$\", 1.25, 0, scale=1.5, fontsize=24)\n",
    "pgm.add_node(\"sigma\", r\"$\\sigma^2$\", 2.5, 0, scale=1.5, fontsize=24)\n",
    "pgm.add_node(\"perf\", r\"$Performance$\", 1.25, -2, scale=2.25, fontsize=24)\n",
    "\n",
    "pgm.add_edge(\"diet\", \"perf\", plot_params=edge_params)\n",
    "pgm.add_edge(\"volume\", \"perf\", plot_params=edge_params)\n",
    "pgm.add_edge(\"sigma\", \"perf\", plot_params=edge_params)\n",
    "pgm.render();"
   ]
  },
  {
   "cell_type": "markdown",
   "id": "bdca8a96",
   "metadata": {
    "slideshow": {
     "slide_type": "fragment"
    }
   },
   "source": [
    "\\begin{equation} \\label{eq1}\n",
    "\\begin{split}\n",
    "w_{diet} & \\sim N(3, 5)   \\\\\n",
    "w_{volume} & \\sim N(3, 5) \\\\\n",
    "\\sigma^2 & \\sim Exp(2) \\\\\n",
    "performance & \\sim N(w_{diet} \\cdot x_{diet} + w_{volume} \\cdot x_{volume}, \\sigma^2)\n",
    "\\end{split}\n",
    "\\end{equation}"
   ]
  },
  {
   "cell_type": "code",
   "execution_count": null,
   "id": "ceed06b7",
   "metadata": {
    "slideshow": {
     "slide_type": "fragment"
    }
   },
   "outputs": [],
   "source": [
    "joint_dist = tfd.JointDistributionNamedAutoBatched(dict(\n",
    "    sigma=tfd.Exponential(2),\n",
    "    \n",
    "    w_diet=tfd.Normal(loc=3, scale=5),\n",
    "    \n",
    "    w_volume=tfd.Normal(loc=3, scale=5),\n",
    "    \n",
    "    performance=lambda sigma, w_diet, w_volume: tfd.Normal(loc=data['diet'].values * w_diet + data['volume'].values * w_volume, scale=sigma)\n",
    "\n",
    "))"
   ]
  },
  {
   "cell_type": "code",
   "execution_count": null,
   "id": "ac8a5357",
   "metadata": {
    "slideshow": {
     "slide_type": "fragment"
    }
   },
   "outputs": [],
   "source": [
    "prior_samples = joint_dist.sample(100)\n",
    "nrows = 3\n",
    "labels = ['sigma', 'w_diet', 'w_volume']\n",
    "fig, axes = plt.subplots(nrows=nrows, ncols=1, figsize=(10, 8))\n",
    "\n",
    "for i in range(nrows):\n",
    "    sns.histplot(prior_samples[labels[i]], kde=True, ax=axes[i], label=labels[i]);\n",
    "    axes[i].legend();"
   ]
  },
  {
   "cell_type": "markdown",
   "id": "b0779329",
   "metadata": {
    "slideshow": {
     "slide_type": "slide"
    }
   },
   "source": [
    "# Step 2: Joint Distribution\n",
    "\n",
    "$$P(\\theta, X)$$"
   ]
  },
  {
   "cell_type": "code",
   "execution_count": null,
   "id": "0f924405",
   "metadata": {
    "slideshow": {
     "slide_type": "slide"
    }
   },
   "outputs": [],
   "source": [
    "def target_log_prob_fn(sigma, w_diet, w_volume):\n",
    "    return joint_dist.log_prob(sigma=sigma, w_diet=w_diet, w_volume=w_volume, performance=data['performance'].values)"
   ]
  },
  {
   "cell_type": "markdown",
   "id": "8b94a6f0",
   "metadata": {
    "slideshow": {
     "slide_type": "slide"
    }
   },
   "source": [
    "# Step 3: MCMC"
   ]
  },
  {
   "cell_type": "code",
   "execution_count": null,
   "id": "0df65817",
   "metadata": {
    "slideshow": {
     "slide_type": "slide"
    }
   },
   "outputs": [],
   "source": [
    "num_results = int(1e4)\n",
    "num_burnin_steps = int(1e3)\n",
    "\n",
    "\n",
    "kernel = tfp.mcmc.HamiltonianMonteCarlo(\n",
    "    target_log_prob_fn=target_log_prob_fn,\n",
    "    step_size=0.3,\n",
    "    num_leapfrog_steps=3\n",
    ")\n",
    "\n",
    "kernel = tfp.mcmc.TransformedTransitionKernel(\n",
    "    inner_kernel=kernel,\n",
    "    bijector=[tfb.Exp(), tfb.Identity(), tfb.Identity()]\n",
    ")\n",
    "\n",
    "kernel = tfp.mcmc.DualAveragingStepSizeAdaptation(\n",
    "    inner_kernel=kernel,\n",
    "    num_adaptation_steps=int(num_burnin_steps * 0.8)\n",
    ")"
   ]
  },
  {
   "cell_type": "code",
   "execution_count": null,
   "id": "ae26f478",
   "metadata": {
    "slideshow": {
     "slide_type": "slide"
    }
   },
   "outputs": [],
   "source": [
    "@tf.function(autograph=False)\n",
    "def sample_chain():\n",
    "    return tfp.mcmc.sample_chain(\n",
    "        num_results=num_results,\n",
    "        num_burnin_steps=num_burnin_steps,\n",
    "        kernel=kernel,\n",
    "        current_state=[\n",
    "            tf.constant(0.5, dtype=tf.float32),\n",
    "            tf.constant(0.3, dtype=tf.float32),\n",
    "            tf.constant(0.2, dtype=tf.float32)\n",
    "        ],\n",
    "        trace_fn=lambda _, pkr: [pkr.inner_results.inner_results.accepted_results.step_size,\n",
    "                                 pkr.inner_results.inner_results.log_accept_ratio]\n",
    "    )"
   ]
  },
  {
   "cell_type": "code",
   "execution_count": null,
   "id": "9fec23f8",
   "metadata": {
    "slideshow": {
     "slide_type": "slide"
    }
   },
   "outputs": [],
   "source": [
    "samples, [step_size, log_accept_ratio] = sample_chain()"
   ]
  },
  {
   "cell_type": "code",
   "execution_count": null,
   "id": "ea0157ac",
   "metadata": {
    "slideshow": {
     "slide_type": "slide"
    }
   },
   "outputs": [],
   "source": [
    "p_accept = tf.reduce_mean(tf.exp(tf.minimum(log_accept_ratio, 0.)))\n",
    "p_accept"
   ]
  },
  {
   "cell_type": "code",
   "execution_count": null,
   "id": "0e660239",
   "metadata": {
    "slideshow": {
     "slide_type": "slide"
    }
   },
   "outputs": [],
   "source": [
    "nrows = 3\n",
    "labels = ['$\\sigma$', 'w_diet', 'w_volume']\n",
    "fig, axes = plt.subplots(nrows=nrows, ncols=1, figsize=(10, 8))\n",
    "\n",
    "for i in range(nrows):\n",
    "    sns.histplot(samples[i], kde=True, ax=axes[i], label=labels[i]);\n",
    "    axes[i].legend();"
   ]
  },
  {
   "cell_type": "code",
   "execution_count": null,
   "id": "90017b9d",
   "metadata": {
    "slideshow": {
     "slide_type": "slide"
    }
   },
   "outputs": [],
   "source": [
    "sigmas, w_diets, w_volumes = samples"
   ]
  },
  {
   "cell_type": "code",
   "execution_count": null,
   "id": "9f0c27e9",
   "metadata": {
    "slideshow": {
     "slide_type": "slide"
    }
   },
   "outputs": [],
   "source": [
    "performance_estimated = (\n",
    "    tf.linalg.matmul(data['diet'].values[..., tf.newaxis], w_diets[..., tf.newaxis], transpose_b=True) +\n",
    "    tf.linalg.matmul(data['volume'].values[..., tf.newaxis], w_volumes[..., tf.newaxis], transpose_b=True)\n",
    ")"
   ]
  },
  {
   "cell_type": "code",
   "execution_count": null,
   "id": "86276810",
   "metadata": {
    "slideshow": {
     "slide_type": "slide"
    }
   },
   "outputs": [],
   "source": [
    "quanties_performance = tf.transpose(tfp.stats.percentile(\n",
    "    performance_estimated, [2.5, 97.5], axis=1, interpolation=None, keepdims=False,\n",
    "))"
   ]
  },
  {
   "cell_type": "code",
   "execution_count": null,
   "id": "eda84f6e",
   "metadata": {
    "slideshow": {
     "slide_type": "slide"
    }
   },
   "outputs": [],
   "source": [
    "mean_y = tf.math.reduce_mean(performance_estimated, axis=1)\n",
    "mean_y"
   ]
  },
  {
   "cell_type": "code",
   "execution_count": null,
   "id": "679abcc1",
   "metadata": {
    "slideshow": {
     "slide_type": "slide"
    }
   },
   "outputs": [],
   "source": [
    "std_y = tf.math.reduce_std(performance_estimated, axis=1)\n",
    "std_y"
   ]
  },
  {
   "cell_type": "code",
   "execution_count": null,
   "id": "bb809032",
   "metadata": {},
   "outputs": [],
   "source": [
    "fig, ax = plt.subplots(figsize=(9, 8)) \n",
    "ax.errorbar(\n",
    "    x=data['performance'], \n",
    "    y=mean_y, \n",
    "    yerr=2*std_y,\n",
    "    fmt='o',\n",
    "    capsize=2,\n",
    "    label='predictions +/- CI'\n",
    ")\n",
    "\n",
    "sns.regplot(\n",
    "    x=data['performance'], \n",
    "    y=mean_y, \n",
    "    scatter=False,\n",
    "    line_kws=dict(alpha=0.5), \n",
    "    label='performance / predicted performance', \n",
    "    truncate=False,\n",
    "    ax=ax\n",
    ");\n",
    "ax.set(ylabel='predicted performance');\n",
    "plt.legend();"
   ]
  },
  {
   "cell_type": "markdown",
   "id": "b90cf89c",
   "metadata": {
    "slideshow": {
     "slide_type": "slide"
    }
   },
   "source": [
    "When we fit `diet` and `volume` together"
   ]
  },
  {
   "cell_type": "markdown",
   "id": "08d0f80a",
   "metadata": {
    "slideshow": {
     "slide_type": "fragment"
    }
   },
   "source": [
    "`diet` seems to lose causality!!"
   ]
  },
  {
   "cell_type": "markdown",
   "id": "6d9e551b",
   "metadata": {
    "slideshow": {
     "slide_type": "slide"
    }
   },
   "source": [
    "## Interesting Problem"
   ]
  },
  {
   "cell_type": "code",
   "execution_count": null,
   "id": "e1694a3c",
   "metadata": {
    "slideshow": {
     "slide_type": "fragment"
    }
   },
   "outputs": [],
   "source": [
    "pgm = daft.PGM(grid_unit=4.0, node_unit=2.5)\n",
    "pgm.add_node(\"diet\", r\"$Diet$\", 0.5, 3, scale=1.5, fontsize=24)\n",
    "pgm.add_node(\"rest\", r\"$Rest$\", 0.5, 1.5, scale=1.5, fontsize=24)\n",
    "pgm.add_node(\"volume\", r\"$Volume$\", 0.5, 0, scale=1.5, fontsize=24)\n",
    "pgm.add_node(\"fatigue\", r\"$Fatigue$\", 0.5, -1.5, scale=1.5, fontsize=24)\n",
    "pgm.add_node(\"question\", r\"$?$\", 2.5 + 0.2, 1.5, scale=1.5, fontsize=24)\n",
    "pgm.add_node(\"perf\", r\"$Performance$\", 5, 1.5, scale=2.5, fontsize=24)\n",
    "\n",
    "pgm.add_edge(\"diet\", \"question\", plot_params=edge_params)\n",
    "pgm.add_edge(\"volume\", \"question\", plot_params=edge_params)\n",
    "pgm.add_edge(\"rest\", \"question\", plot_params=edge_params)\n",
    "pgm.add_edge(\"fatigue\", \"question\", plot_params=edge_params)\n",
    "pgm.add_edge(\"question\", \"perf\", plot_params=edge_params)\n",
    "\n",
    "\n",
    "pgm.render();"
   ]
  },
  {
   "cell_type": "markdown",
   "id": "54594ba7",
   "metadata": {
    "slideshow": {
     "slide_type": "slide"
    }
   },
   "source": [
    "## Correlations won't work"
   ]
  },
  {
   "cell_type": "markdown",
   "id": "52ec2521",
   "metadata": {
    "slideshow": {
     "slide_type": "fragment"
    }
   },
   "source": [
    "## Better Solution?"
   ]
  },
  {
   "cell_type": "markdown",
   "id": "38f09604",
   "metadata": {
    "slideshow": {
     "slide_type": "fragment"
    }
   },
   "source": [
    "\n",
    "## A/B Test!"
   ]
  },
  {
   "cell_type": "markdown",
   "id": "21f098f3",
   "metadata": {
    "slideshow": {
     "slide_type": "fragment"
    }
   },
   "source": [
    "<center><img src=\"imgs/ab.png\" /></center>"
   ]
  },
  {
   "cell_type": "markdown",
   "id": "ca2f161f",
   "metadata": {
    "slideshow": {
     "slide_type": "slide"
    }
   },
   "source": [
    "## Not so fast..."
   ]
  },
  {
   "cell_type": "markdown",
   "id": "fd50b1ef",
   "metadata": {
    "slideshow": {
     "slide_type": "slide"
    }
   },
   "source": [
    " <center><img src='imgs/Store-WP.png'/></center>"
   ]
  },
  {
   "cell_type": "markdown",
   "id": "4311f5c5",
   "metadata": {
    "slideshow": {
     "slide_type": "fragment"
    }
   },
   "source": [
    "## Control Group Fail..."
   ]
  },
  {
   "cell_type": "markdown",
   "id": "64ce1a4c",
   "metadata": {
    "slideshow": {
     "slide_type": "slide"
    }
   },
   "source": [
    "## Solution: Quasi Experiments"
   ]
  },
  {
   "cell_type": "markdown",
   "id": "8e421f39",
   "metadata": {
    "slideshow": {
     "slide_type": "slide"
    }
   },
   "source": [
    "<center><img src=\"imgs/ci.png\"/></center>"
   ]
  },
  {
   "cell_type": "markdown",
   "id": "40081e92",
   "metadata": {
    "slideshow": {
     "slide_type": "slide"
    }
   },
   "source": [
    "## Structural Time Series"
   ]
  },
  {
   "cell_type": "markdown",
   "id": "f6ca9b1e",
   "metadata": {
    "slideshow": {
     "slide_type": "fragment"
    }
   },
   "source": [
    "<center><img src=\"imgs/stsequation.png\" /></center>"
   ]
  },
  {
   "cell_type": "markdown",
   "id": "4f4edb73",
   "metadata": {
    "slideshow": {
     "slide_type": "fragment"
    }
   },
   "source": [
    "<center><img src=\"imgs/stsgraph.png\" /></center>"
   ]
  },
  {
   "cell_type": "markdown",
   "id": "2a9e53d0",
   "metadata": {
    "slideshow": {
     "slide_type": "slide"
    }
   },
   "source": [
    "## Important thing is: Structures"
   ]
  },
  {
   "cell_type": "markdown",
   "id": "66a2d62a",
   "metadata": {
    "slideshow": {
     "slide_type": "fragment"
    }
   },
   "source": [
    "- [AutoRegressive](https://github.com/tensorflow/probability/blob/v0.11.1/tensorflow_probability/python/sts/autoregressive.py#L258)\n",
    "- [DynamicRegression](https://github.com/tensorflow/probability/blob/v0.11.1/tensorflow_probability/python/sts/dynamic_regression.py#L230)\n",
    "- [LocalLevel](https://github.com/tensorflow/probability/blob/v0.11.1/tensorflow_probability/python/sts/local_level.py#L254)\n",
    "- [Seasonal](https://github.com/tensorflow/probability/blob/v0.11.1/tensorflow_probability/python/sts/seasonal.py#L688)\n",
    "- [LocalLinearTrend](https://github.com/tensorflow/probability/blob/v0.11.1/tensorflow_probability/python/sts/local_linear_trend.py#L222)\n",
    "- [SemiLocalLinearTrend](https://github.com/tensorflow/probability/blob/v0.11.1/tensorflow_probability/python/sts/semilocal_linear_trend.py#L294)\n",
    "- [SmoothSeasonal](https://github.com/tensorflow/probability/blob/v0.11.1/tensorflow_probability/python/sts/smooth_seasonal.py#L321)\n",
    "- [Regression](https://github.com/tensorflow/probability/blob/v0.11.1/tensorflow_probability/python/sts/regression.py#L51)\n",
    "- [SparseLinearRegression](https://github.com/tensorflow/probability/blob/v0.11.1/tensorflow_probability/python/sts/regression.py#L264)"
   ]
  },
  {
   "cell_type": "markdown",
   "id": "3f6e7e2e",
   "metadata": {
    "slideshow": {
     "slide_type": "fragment"
    }
   },
   "source": [
    "## Local Level"
   ]
  },
  {
   "cell_type": "markdown",
   "id": "471cf88a",
   "metadata": {
    "slideshow": {
     "slide_type": "fragment"
    }
   },
   "source": [
    "$$\\mu_t = \\mu_{t-1} + Normal(0, \\sigma^2_{\\mu})$$"
   ]
  },
  {
   "cell_type": "code",
   "execution_count": null,
   "id": "1dd79fa9",
   "metadata": {
    "slideshow": {
     "slide_type": "fragment"
    }
   },
   "outputs": [],
   "source": [
    "local_level_model = tfp.sts.LocalLevelStateSpaceModel(\n",
    "    num_timesteps=20,\n",
    "    level_scale=.1,\n",
    "    initial_state_prior=tfd.MultivariateNormalDiag(scale_diag=[1.])\n",
    ")\n",
    "\n",
    "s = local_level_model.sample(1)\n",
    "plt.plot(tf.squeeze(s));"
   ]
  },
  {
   "cell_type": "code",
   "execution_count": null,
   "id": "f2964d2c",
   "metadata": {
    "slideshow": {
     "slide_type": "fragment"
    }
   },
   "outputs": [],
   "source": [
    "local_level_model.log_prob(s)"
   ]
  },
  {
   "cell_type": "markdown",
   "id": "5c3952d9",
   "metadata": {
    "slideshow": {
     "slide_type": "slide"
    }
   },
   "source": [
    "## Local And Regression (Model Fit)"
   ]
  },
  {
   "cell_type": "code",
   "execution_count": null,
   "id": "92921da5",
   "metadata": {
    "slideshow": {
     "slide_type": "fragment"
    }
   },
   "outputs": [],
   "source": [
    "data = pd.read_csv('https://raw.githubusercontent.com/WillianFuks/tfcausalimpact/master/tests/fixtures/arma_data.csv', dtype=np.float32)[['y', 'X']]\n",
    "data.iloc[70:, 0] += 5\n",
    "data.plot()\n",
    "plt.axvline(70, 0, 130, linestyle='--', color='r', linewidth=0.85);\n",
    "\n",
    "y = tf.cast(data['y'].values[:70], tf.float32)"
   ]
  },
  {
   "cell_type": "code",
   "execution_count": null,
   "id": "7ba04771",
   "metadata": {
    "slideshow": {
     "slide_type": "fragment"
    }
   },
   "outputs": [],
   "source": [
    "local_level = tfp.sts.LocalLevel(\n",
    "    observed_time_series=y\n",
    ")"
   ]
  },
  {
   "cell_type": "code",
   "execution_count": null,
   "id": "c85f61dd",
   "metadata": {
    "slideshow": {
     "slide_type": "fragment"
    }
   },
   "outputs": [],
   "source": [
    "regression = tfp.sts.LinearRegression(\n",
    "    design_matrix=tf.cast(data['X'].values[..., tf.newaxis], tf.float32)\n",
    ")"
   ]
  },
  {
   "cell_type": "code",
   "execution_count": null,
   "id": "3500d1e4",
   "metadata": {
    "slideshow": {
     "slide_type": "fragment"
    }
   },
   "outputs": [],
   "source": [
    "model = tfp.sts.Sum([local_level, regression], observed_time_series=y)"
   ]
  },
  {
   "cell_type": "code",
   "execution_count": null,
   "id": "8e0fe19a",
   "metadata": {
    "slideshow": {
     "slide_type": "fragment"
    }
   },
   "outputs": [],
   "source": [
    "samples, _ = tfp.sts.fit_with_hmc(model, y)"
   ]
  },
  {
   "cell_type": "code",
   "execution_count": null,
   "id": "22765705",
   "metadata": {
    "slideshow": {
     "slide_type": "fragment"
    }
   },
   "outputs": [],
   "source": [
    "one_step_predictive_dist = tfp.sts.one_step_predictive(model, observed_time_series=y, parameter_samples=samples)"
   ]
  },
  {
   "cell_type": "code",
   "execution_count": null,
   "id": "e7698f7b",
   "metadata": {
    "slideshow": {
     "slide_type": "fragment"
    }
   },
   "outputs": [],
   "source": [
    "predictive_means = one_step_predictive_dist.mean()\n",
    "predictive_means"
   ]
  },
  {
   "cell_type": "code",
   "execution_count": null,
   "id": "cd114354",
   "metadata": {
    "slideshow": {
     "slide_type": "fragment"
    }
   },
   "outputs": [],
   "source": [
    "predictive_scales = one_step_predictive_dist.stddev()\n",
    "predictive_scales"
   ]
  },
  {
   "cell_type": "code",
   "execution_count": null,
   "id": "c49b051e",
   "metadata": {
    "slideshow": {
     "slide_type": "fragment"
    }
   },
   "outputs": [],
   "source": [
    "plt.figure(figsize=(10, 9))\n",
    "color = (1.0, 0.4981, 0.0549)\n",
    "plt.plot(y, label='y', color='k')\n",
    "# plt.plot(predictive_means[1:], color=color, label='predictive mean')\n",
    "plt.fill_between(\n",
    "    np.arange(1, 70),\n",
    "    predictive_means[1:70] - predictive_scales[1:70],\n",
    "    predictive_means[1:70] + predictive_scales[1:70],\n",
    "    alpha=0.4,\n",
    "    color=color,\n",
    "    label='predictive std'\n",
    ")\n",
    "plt.legend();"
   ]
  },
  {
   "cell_type": "code",
   "execution_count": null,
   "id": "8f58b5af",
   "metadata": {
    "slideshow": {
     "slide_type": "fragment"
    }
   },
   "outputs": [],
   "source": [
    "forecast_dist = tfp.sts.forecast(model, observed_time_series=y, parameter_samples=samples, num_steps_forecast=30)"
   ]
  },
  {
   "cell_type": "code",
   "execution_count": null,
   "id": "bc01c04a",
   "metadata": {
    "slideshow": {
     "slide_type": "fragment"
    }
   },
   "outputs": [],
   "source": [
    "forecast_means = tf.squeeze(forecast_dist.mean())\n",
    "forecast_scales = tf.squeeze(forecast_dist.stddev())"
   ]
  },
  {
   "cell_type": "code",
   "execution_count": null,
   "id": "044e3b5e",
   "metadata": {
    "slideshow": {
     "slide_type": "fragment"
    }
   },
   "outputs": [],
   "source": [
    "plt.figure(figsize=(10, 9))\n",
    "plt.plot(data['y'], label='y', color='k')\n",
    "plt.fill_between(\n",
    "    np.arange(1, 70),\n",
    "    predictive_means[1:] - predictive_scales[1:],\n",
    "    predictive_means[1:] + predictive_scales[1:],\n",
    "    alpha=0.4,\n",
    "    color=color,\n",
    "    label='predictive std'\n",
    ")\n",
    "plt.plot(np.arange(70, 100), forecast_means, color='r', label='mean forecast')\n",
    "plt.fill_between(\n",
    "    np.arange(70, 100),\n",
    "    forecast_means - forecast_scales,\n",
    "    forecast_means + forecast_scales,\n",
    "    alpha=0.4,\n",
    "    color='red',\n",
    "    label='forecast std'\n",
    ")\n",
    "plt.legend();"
   ]
  },
  {
   "cell_type": "markdown",
   "id": "b53f3420",
   "metadata": {
    "slideshow": {
     "slide_type": "slide"
    }
   },
   "source": [
    "## How to obtain causal impact?"
   ]
  },
  {
   "cell_type": "markdown",
   "id": "48c52929",
   "metadata": {
    "slideshow": {
     "slide_type": "fragment"
    }
   },
   "source": [
    "### tfcausalimpact"
   ]
  },
  {
   "cell_type": "code",
   "execution_count": null,
   "id": "00eb7a73",
   "metadata": {
    "slideshow": {
     "slide_type": "fragment"
    }
   },
   "outputs": [],
   "source": [
    "!pip install tfcausalimpact > /dev/null"
   ]
  },
  {
   "cell_type": "code",
   "execution_count": null,
   "id": "aeebbc4d",
   "metadata": {
    "slideshow": {
     "slide_type": "fragment"
    }
   },
   "outputs": [],
   "source": [
    "from causalimpact import CausalImpact\n",
    "\n",
    "\n",
    "data = pd.read_csv('https://raw.githubusercontent.com/WillianFuks/tfcausalimpact/master/tests/fixtures/arma_data.csv')[['y', 'X']]\n",
    "data.iloc[70:, 0] += 5\n",
    "\n",
    "pre_period = [0, 69]\n",
    "post_period = [70, 99]\n",
    "\n",
    "ci = CausalImpact(data, pre_period, post_period)"
   ]
  },
  {
   "cell_type": "code",
   "execution_count": null,
   "id": "c7497404",
   "metadata": {
    "slideshow": {
     "slide_type": "fragment"
    }
   },
   "outputs": [],
   "source": [
    "print(ci.summary())"
   ]
  },
  {
   "cell_type": "code",
   "execution_count": null,
   "id": "e69e0581",
   "metadata": {
    "slideshow": {
     "slide_type": "fragment"
    }
   },
   "outputs": [],
   "source": [
    "print(ci.summary(output='report'))"
   ]
  },
  {
   "cell_type": "code",
   "execution_count": null,
   "id": "426caff7",
   "metadata": {
    "slideshow": {
     "slide_type": "fragment"
    }
   },
   "outputs": [],
   "source": [
    "ci.plot(figsize=(15, 15))"
   ]
  },
  {
   "cell_type": "code",
   "execution_count": null,
   "id": "e677717c",
   "metadata": {
    "slideshow": {
     "slide_type": "fragment"
    }
   },
   "outputs": [],
   "source": [
    "ci.model.components_by_name"
   ]
  },
  {
   "cell_type": "code",
   "execution_count": null,
   "id": "6ccf2a3e",
   "metadata": {
    "slideshow": {
     "slide_type": "fragment"
    }
   },
   "outputs": [],
   "source": [
    "ci.model_samples"
   ]
  },
  {
   "cell_type": "code",
   "execution_count": null,
   "id": "1afda57f",
   "metadata": {
    "slideshow": {
     "slide_type": "slide"
    }
   },
   "outputs": [],
   "source": [
    "# https://www.tensorflow.org/probability/examples/Structural_Time_Series_Modeling_Case_Studies_Atmospheric_CO2_and_Electricity_Demand\n",
    "\n",
    "component_dists = tfp.sts.decompose_by_component(\n",
    "    ci.model,\n",
    "    observed_time_series=y,\n",
    "    parameter_samples=ci.model_samples\n",
    ")\n",
    "\n",
    "component_means, component_stddevs = (\n",
    "    {k.name: c.mean() for k, c in component_dists.items()},\n",
    "    {k.name: c.stddev() for k, c in component_dists.items()}\n",
    ")\n",
    "\n",
    "def plot_components(dates,\n",
    "                    component_means_dict,\n",
    "                    component_stddevs_dict):\n",
    "  x_locator, x_formatter = None, None\n",
    "  colors = sns.color_palette()\n",
    "  c1, c2 = colors[0], colors[1]\n",
    "\n",
    "  axes_dict = collections.OrderedDict()\n",
    "  num_components = len(component_means_dict)\n",
    "  fig = plt.figure(figsize=(12, 2.5 * num_components))\n",
    "  for i, component_name in enumerate(component_means_dict.keys()):\n",
    "    component_mean = component_means_dict[component_name]\n",
    "    component_stddev = component_stddevs_dict[component_name]\n",
    "\n",
    "    ax = fig.add_subplot(num_components, 1, 1 + i)\n",
    "    ax.plot(dates, component_mean, lw=2)\n",
    "    ax.fill_between(dates, component_mean-2*component_stddev,\n",
    "                    component_mean+2*component_stddev,\n",
    "                    color=c2, alpha=0.5)\n",
    "    ax.set_title(component_name)\n",
    "    if x_locator is not None:\n",
    "      ax.xaxis.set_major_locator(x_locator)\n",
    "      ax.xaxis.set_major_formatter(x_formatter)\n",
    "    axes_dict[component_name] = ax\n",
    "#   fig.autofmt_xdate()\n",
    "  fig.tight_layout()\n",
    "\n",
    "\n",
    "plot_components(np.arange(0, 70), component_means, component_stddevs);"
   ]
  },
  {
   "cell_type": "markdown",
   "id": "7ae29dce",
   "metadata": {
    "slideshow": {
     "slide_type": "slide"
    }
   },
   "source": [
    "## Real Example: Bitcoin"
   ]
  },
  {
   "cell_type": "code",
   "execution_count": null,
   "id": "70d4eb7a",
   "metadata": {
    "slideshow": {
     "slide_type": "fragment"
    }
   },
   "outputs": [],
   "source": [
    "! pip install pandas-datareader > /dev/null"
   ]
  },
  {
   "cell_type": "code",
   "execution_count": null,
   "id": "2d7c59c3",
   "metadata": {
    "slideshow": {
     "slide_type": "fragment"
    }
   },
   "outputs": [],
   "source": [
    "import datetime\n",
    "import pandas_datareader as pdr\n",
    "\n",
    "\n",
    "btc_data = pdr.get_data_yahoo(['BTC-USD'], \n",
    "                              start=datetime.datetime(2018, 1, 1), \n",
    "                              end=datetime.datetime(2020, 12, 3))['Close']\n",
    "btc_data = btc_data.reset_index().drop_duplicates(subset='Date', keep='last').set_index('Date').sort_index()\n",
    "btc_data = btc_data.resample('D').fillna('nearest')\n",
    "X_data = pdr.get_data_yahoo(['TWTR', 'GOOGL', 'AAPL', 'MSFT', 'AMZN', 'FB', 'GOLD'], \n",
    "                            start=datetime.datetime(2018, 1, 1), \n",
    "                            end=datetime.datetime(2020, 12, 2))['Close']\n",
    "X_data = X_data.reset_index().drop_duplicates(subset='Date', keep='last').set_index('Date').sort_index()\n",
    "X_data = X_data.resample('D').fillna('nearest')\n",
    "data = pd.concat([btc_data, X_data], axis=1)\n",
    "data.dropna(inplace=True)\n",
    "data = data.resample('W-Wed').last()  # Weekly is easier to process. We select Wednesday so 2020-10-21 is available.\n",
    "data = data.astype(np.float32)\n",
    "\n",
    "np.log(data).plot(figsize=(15, 12))\n",
    "plt.axvline('2020-10-14', 0, np.max(data['BTC-USD']), lw=2, ls='--', c='red', label='PayPal Impact')\n",
    "plt.legend(loc='upper left');"
   ]
  },
  {
   "cell_type": "code",
   "execution_count": null,
   "id": "02ec3c3d",
   "metadata": {
    "slideshow": {
     "slide_type": "fragment"
    }
   },
   "outputs": [],
   "source": [
    "pre_period=['20180103', '20201014']\n",
    "post_period=['20201021', '20201125']\n",
    "ci = CausalImpact(data, pre_period, post_period, model_args={'fit_method': 'vi'})"
   ]
  },
  {
   "cell_type": "code",
   "execution_count": null,
   "id": "fafbab9f",
   "metadata": {
    "slideshow": {
     "slide_type": "fragment"
    }
   },
   "outputs": [],
   "source": [
    "print(ci.summary())"
   ]
  },
  {
   "cell_type": "code",
   "execution_count": null,
   "id": "6b9119a5",
   "metadata": {
    "slideshow": {
     "slide_type": "fragment"
    }
   },
   "outputs": [],
   "source": [
    "ci.plot(figsize=(15, 15))"
   ]
  },
  {
   "cell_type": "markdown",
   "id": "780c0d23",
   "metadata": {
    "slideshow": {
     "slide_type": "slide"
    }
   },
   "source": [
    "## Tips"
   ]
  },
  {
   "cell_type": "markdown",
   "id": "8ed8763b",
   "metadata": {
    "slideshow": {
     "slide_type": "slide"
    }
   },
   "source": [
    "## Q - How select covariates?"
   ]
  },
  {
   "cell_type": "markdown",
   "id": "76f77399",
   "metadata": {
    "slideshow": {
     "slide_type": "fragment"
    }
   },
   "source": [
    "## A - Yes!"
   ]
  },
  {
   "cell_type": "markdown",
   "id": "6eda0afd",
   "metadata": {
    "slideshow": {
     "slide_type": "fragment"
    }
   },
   "source": [
    "tfp.sts.SparseLinearRegression"
   ]
  },
  {
   "cell_type": "markdown",
   "id": "023d9f2a",
   "metadata": {
    "slideshow": {
     "slide_type": "slide"
    }
   },
   "source": [
    "## Decompose by [`statsmodels`](https://github.com/statsmodels/statsmodels)"
   ]
  },
  {
   "cell_type": "code",
   "execution_count": null,
   "id": "999e7b51",
   "metadata": {
    "slideshow": {
     "slide_type": "fragment"
    }
   },
   "outputs": [],
   "source": [
    "!pip install statsmodels > /dev/null"
   ]
  },
  {
   "cell_type": "code",
   "execution_count": null,
   "id": "3f7b6db7",
   "metadata": {
    "slideshow": {
     "slide_type": "fragment"
    }
   },
   "outputs": [],
   "source": [
    "from statsmodels.tsa.seasonal import seasonal_decompose\n",
    "\n",
    "\n",
    "fig, axes = plt.subplots(4, 1, figsize=(15, 15))\n",
    "fig.tight_layout()\n",
    "\n",
    "res = seasonal_decompose(data['BTC-USD'])\n",
    "\n",
    "axes[0].plot(res.observed)\n",
    "axes[0].set_title('Observed')\n",
    "\n",
    "axes[1].plot(res.trend)\n",
    "axes[1].set_title('Trend')\n",
    "\n",
    "axes[2].plot(res.seasonal)\n",
    "axes[2].set_title('Seasonal')\n",
    "\n",
    "axes[3].plot(res.resid)\n",
    "axes[3].set_title('Residuals');\n",
    "\n"
   ]
  },
  {
   "cell_type": "markdown",
   "id": "7e1c2774",
   "metadata": {
    "slideshow": {
     "slide_type": "slide"
    }
   },
   "source": [
    "# Fourier FTW"
   ]
  },
  {
   "cell_type": "code",
   "execution_count": null,
   "id": "b0da3b73",
   "metadata": {
    "slideshow": {
     "slide_type": "fragment"
    }
   },
   "outputs": [],
   "source": [
    "# https://colab.research.google.com/drive/10VADEg8F5t_FuryEf_ObFfeIFwX-CxII?usp=sharing#scrollTo=UyA6K6GTyJqF\n",
    "\n",
    "from numpy.fft import rfft, irfft, rfftfreq\n",
    "\n",
    "\n",
    "def annot_max(x, y, ax=None):\n",
    "    xmax = x[np.argmax(y)]\n",
    "    ymax = y.max()\n",
    "    text= \"x={:.3f}, y={:.3f}\".format(xmax, ymax) \n",
    "    #text = f\"{xmax=}, {ymax=}, (period: {1./xmax} days)\" #Eh, Colab has Python 3.6 ... \n",
    "    text = f\"x={xmax:.3f}, y={ymax:.3f}, (period: {(1./xmax):.2f} weeks)\"\n",
    "    if not ax:\n",
    "        ax=plt.gca()\n",
    "    bbox_props = dict(boxstyle=\"square,pad=0.3\", fc=\"w\", ec=\"k\", lw=0.72)\n",
    "    arrowprops=dict(arrowstyle=\"->\",connectionstyle=\"angle,angleA=0,angleB=60\")\n",
    "    kw = dict(xycoords='data',textcoords=\"axes fraction\",\n",
    "              arrowprops=arrowprops, bbox=bbox_props, ha=\"right\", va=\"top\")\n",
    "    ax.annotate(text, xy=(xmax, ymax),  xytext=(0.94, 0.96), **kw)\n",
    "\n",
    "    \n",
    "y = data['BTC-USD']\n",
    "nobs = len(y)\n",
    "btc_ft = np.abs(rfft(y))\n",
    "btc_freq = rfftfreq(nobs)\n",
    "plt.plot(btc_freq[2:], btc_ft[2:])\n",
    "annot_max(btc_freq[2:], btc_ft[2: ]);"
   ]
  },
  {
   "cell_type": "markdown",
   "id": "5fbe5c05",
   "metadata": {
    "slideshow": {
     "slide_type": "slide"
    }
   },
   "source": [
    "# Cross Validation"
   ]
  },
  {
   "cell_type": "code",
   "execution_count": null,
   "id": "4316202d",
   "metadata": {
    "slideshow": {
     "slide_type": "fragment"
    }
   },
   "outputs": [],
   "source": [
    "plt.figure(figsize=(15, 10))\n",
    "plt.plot(y)\n",
    "plt.axvline(pd.to_datetime('2018-09-01'), 0, 19000, c='r')\n",
    "plt.axvline(pd.to_datetime('2019-09-01'), 0, 19000, c='g')\n",
    "\n",
    "plt.text(pd.to_datetime('2018-03-01'), 18000, 'train', bbox=dict(fill=False, edgecolor='k', linewidth=0.5), fontdict={'fontsize': 20})\n",
    "plt.text(pd.to_datetime('2019-01-01'), 18000, 'cross-validate', bbox=dict(fill=False, edgecolor='k', linewidth=0.5), fontdict={'fontsize': 20})\n",
    "plt.text(pd.to_datetime('2020-02-01'), 18000, 'causal impact', bbox=dict(fill=False, edgecolor='k', linewidth=0.5), fontdict={'fontsize': 20});"
   ]
  },
  {
   "cell_type": "markdown",
   "id": "6a9dc68a",
   "metadata": {
    "slideshow": {
     "slide_type": "slide"
    }
   },
   "source": [
    "## And that's pretty much it ;)!\n",
    "\n",
    "## Thanks!"
   ]
  }
 ],
 "metadata": {
  "celltoolbar": "Slideshow",
  "kernelspec": {
   "display_name": "Python 3",
   "language": "python",
   "name": "python3"
  },
  "language_info": {
   "codemirror_mode": {
    "name": "ipython",
    "version": 3
   },
   "file_extension": ".py",
   "mimetype": "text/x-python",
   "name": "python",
   "nbconvert_exporter": "python",
   "pygments_lexer": "ipython3",
   "version": "3.9.6"
  },
  "rise": {
   "autolaunch": true,
   "enable_chalkboard": false,
   "scroll": true,
   "slideNumber": "c/t",
   "theme": "white",
   "transition-speed": "fast"
  }
 },
 "nbformat": 4,
 "nbformat_minor": 5
}
